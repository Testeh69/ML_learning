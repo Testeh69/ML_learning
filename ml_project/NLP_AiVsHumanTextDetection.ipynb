{
  "nbformat": 4,
  "nbformat_minor": 0,
  "metadata": {
    "colab": {
      "provenance": [],
      "gpuType": "T4"
    },
    "kernelspec": {
      "name": "python3",
      "display_name": "Python 3"
    },
    "language_info": {
      "name": "python"
    }
  },
  "cells": [
    {
      "cell_type": "markdown",
      "source": [
        "SET UP DATASET VIA KAGGLE API"
      ],
      "metadata": {
        "id": "GMH-emgBd1GF"
      }
    },
    {
      "cell_type": "code",
      "execution_count": 6,
      "metadata": {
        "colab": {
          "base_uri": "https://localhost:8080/"
        },
        "id": "s2p9YxS3c4S7",
        "outputId": "5a2203a2-0b32-4a8d-88ee-ff23fddbf060"
      },
      "outputs": [
        {
          "output_type": "stream",
          "name": "stdout",
          "text": [
            "Requirement already satisfied: kaggle in /usr/local/lib/python3.10/dist-packages (1.5.16)\n",
            "Requirement already satisfied: six>=1.10 in /usr/local/lib/python3.10/dist-packages (from kaggle) (1.16.0)\n",
            "Requirement already satisfied: certifi in /usr/local/lib/python3.10/dist-packages (from kaggle) (2024.2.2)\n",
            "Requirement already satisfied: python-dateutil in /usr/local/lib/python3.10/dist-packages (from kaggle) (2.8.2)\n",
            "Requirement already satisfied: requests in /usr/local/lib/python3.10/dist-packages (from kaggle) (2.31.0)\n",
            "Requirement already satisfied: tqdm in /usr/local/lib/python3.10/dist-packages (from kaggle) (4.66.1)\n",
            "Requirement already satisfied: python-slugify in /usr/local/lib/python3.10/dist-packages (from kaggle) (8.0.3)\n",
            "Requirement already satisfied: urllib3 in /usr/local/lib/python3.10/dist-packages (from kaggle) (2.0.7)\n",
            "Requirement already satisfied: bleach in /usr/local/lib/python3.10/dist-packages (from kaggle) (6.1.0)\n",
            "Requirement already satisfied: webencodings in /usr/local/lib/python3.10/dist-packages (from bleach->kaggle) (0.5.1)\n",
            "Requirement already satisfied: text-unidecode>=1.3 in /usr/local/lib/python3.10/dist-packages (from python-slugify->kaggle) (1.3)\n",
            "Requirement already satisfied: charset-normalizer<4,>=2 in /usr/local/lib/python3.10/dist-packages (from requests->kaggle) (3.3.2)\n",
            "Requirement already satisfied: idna<4,>=2.5 in /usr/local/lib/python3.10/dist-packages (from requests->kaggle) (3.6)\n"
          ]
        }
      ],
      "source": [
        "!pip install kaggle"
      ]
    },
    {
      "cell_type": "code",
      "source": [
        "from google.colab import files\n",
        "\n",
        "# Upload the Kaggle API key file\n",
        "uploaded = files.upload()"
      ],
      "metadata": {
        "colab": {
          "base_uri": "https://localhost:8080/",
          "height": 73
        },
        "id": "SLJ0pem7d5ld",
        "outputId": "bf679c65-c7af-469e-d5cf-90db56bf4f4c"
      },
      "execution_count": 7,
      "outputs": [
        {
          "output_type": "display_data",
          "data": {
            "text/plain": [
              "<IPython.core.display.HTML object>"
            ],
            "text/html": [
              "\n",
              "     <input type=\"file\" id=\"files-187831b3-0cdb-4539-a0ab-a2aac792c072\" name=\"files[]\" multiple disabled\n",
              "        style=\"border:none\" />\n",
              "     <output id=\"result-187831b3-0cdb-4539-a0ab-a2aac792c072\">\n",
              "      Upload widget is only available when the cell has been executed in the\n",
              "      current browser session. Please rerun this cell to enable.\n",
              "      </output>\n",
              "      <script>// Copyright 2017 Google LLC\n",
              "//\n",
              "// Licensed under the Apache License, Version 2.0 (the \"License\");\n",
              "// you may not use this file except in compliance with the License.\n",
              "// You may obtain a copy of the License at\n",
              "//\n",
              "//      http://www.apache.org/licenses/LICENSE-2.0\n",
              "//\n",
              "// Unless required by applicable law or agreed to in writing, software\n",
              "// distributed under the License is distributed on an \"AS IS\" BASIS,\n",
              "// WITHOUT WARRANTIES OR CONDITIONS OF ANY KIND, either express or implied.\n",
              "// See the License for the specific language governing permissions and\n",
              "// limitations under the License.\n",
              "\n",
              "/**\n",
              " * @fileoverview Helpers for google.colab Python module.\n",
              " */\n",
              "(function(scope) {\n",
              "function span(text, styleAttributes = {}) {\n",
              "  const element = document.createElement('span');\n",
              "  element.textContent = text;\n",
              "  for (const key of Object.keys(styleAttributes)) {\n",
              "    element.style[key] = styleAttributes[key];\n",
              "  }\n",
              "  return element;\n",
              "}\n",
              "\n",
              "// Max number of bytes which will be uploaded at a time.\n",
              "const MAX_PAYLOAD_SIZE = 100 * 1024;\n",
              "\n",
              "function _uploadFiles(inputId, outputId) {\n",
              "  const steps = uploadFilesStep(inputId, outputId);\n",
              "  const outputElement = document.getElementById(outputId);\n",
              "  // Cache steps on the outputElement to make it available for the next call\n",
              "  // to uploadFilesContinue from Python.\n",
              "  outputElement.steps = steps;\n",
              "\n",
              "  return _uploadFilesContinue(outputId);\n",
              "}\n",
              "\n",
              "// This is roughly an async generator (not supported in the browser yet),\n",
              "// where there are multiple asynchronous steps and the Python side is going\n",
              "// to poll for completion of each step.\n",
              "// This uses a Promise to block the python side on completion of each step,\n",
              "// then passes the result of the previous step as the input to the next step.\n",
              "function _uploadFilesContinue(outputId) {\n",
              "  const outputElement = document.getElementById(outputId);\n",
              "  const steps = outputElement.steps;\n",
              "\n",
              "  const next = steps.next(outputElement.lastPromiseValue);\n",
              "  return Promise.resolve(next.value.promise).then((value) => {\n",
              "    // Cache the last promise value to make it available to the next\n",
              "    // step of the generator.\n",
              "    outputElement.lastPromiseValue = value;\n",
              "    return next.value.response;\n",
              "  });\n",
              "}\n",
              "\n",
              "/**\n",
              " * Generator function which is called between each async step of the upload\n",
              " * process.\n",
              " * @param {string} inputId Element ID of the input file picker element.\n",
              " * @param {string} outputId Element ID of the output display.\n",
              " * @return {!Iterable<!Object>} Iterable of next steps.\n",
              " */\n",
              "function* uploadFilesStep(inputId, outputId) {\n",
              "  const inputElement = document.getElementById(inputId);\n",
              "  inputElement.disabled = false;\n",
              "\n",
              "  const outputElement = document.getElementById(outputId);\n",
              "  outputElement.innerHTML = '';\n",
              "\n",
              "  const pickedPromise = new Promise((resolve) => {\n",
              "    inputElement.addEventListener('change', (e) => {\n",
              "      resolve(e.target.files);\n",
              "    });\n",
              "  });\n",
              "\n",
              "  const cancel = document.createElement('button');\n",
              "  inputElement.parentElement.appendChild(cancel);\n",
              "  cancel.textContent = 'Cancel upload';\n",
              "  const cancelPromise = new Promise((resolve) => {\n",
              "    cancel.onclick = () => {\n",
              "      resolve(null);\n",
              "    };\n",
              "  });\n",
              "\n",
              "  // Wait for the user to pick the files.\n",
              "  const files = yield {\n",
              "    promise: Promise.race([pickedPromise, cancelPromise]),\n",
              "    response: {\n",
              "      action: 'starting',\n",
              "    }\n",
              "  };\n",
              "\n",
              "  cancel.remove();\n",
              "\n",
              "  // Disable the input element since further picks are not allowed.\n",
              "  inputElement.disabled = true;\n",
              "\n",
              "  if (!files) {\n",
              "    return {\n",
              "      response: {\n",
              "        action: 'complete',\n",
              "      }\n",
              "    };\n",
              "  }\n",
              "\n",
              "  for (const file of files) {\n",
              "    const li = document.createElement('li');\n",
              "    li.append(span(file.name, {fontWeight: 'bold'}));\n",
              "    li.append(span(\n",
              "        `(${file.type || 'n/a'}) - ${file.size} bytes, ` +\n",
              "        `last modified: ${\n",
              "            file.lastModifiedDate ? file.lastModifiedDate.toLocaleDateString() :\n",
              "                                    'n/a'} - `));\n",
              "    const percent = span('0% done');\n",
              "    li.appendChild(percent);\n",
              "\n",
              "    outputElement.appendChild(li);\n",
              "\n",
              "    const fileDataPromise = new Promise((resolve) => {\n",
              "      const reader = new FileReader();\n",
              "      reader.onload = (e) => {\n",
              "        resolve(e.target.result);\n",
              "      };\n",
              "      reader.readAsArrayBuffer(file);\n",
              "    });\n",
              "    // Wait for the data to be ready.\n",
              "    let fileData = yield {\n",
              "      promise: fileDataPromise,\n",
              "      response: {\n",
              "        action: 'continue',\n",
              "      }\n",
              "    };\n",
              "\n",
              "    // Use a chunked sending to avoid message size limits. See b/62115660.\n",
              "    let position = 0;\n",
              "    do {\n",
              "      const length = Math.min(fileData.byteLength - position, MAX_PAYLOAD_SIZE);\n",
              "      const chunk = new Uint8Array(fileData, position, length);\n",
              "      position += length;\n",
              "\n",
              "      const base64 = btoa(String.fromCharCode.apply(null, chunk));\n",
              "      yield {\n",
              "        response: {\n",
              "          action: 'append',\n",
              "          file: file.name,\n",
              "          data: base64,\n",
              "        },\n",
              "      };\n",
              "\n",
              "      let percentDone = fileData.byteLength === 0 ?\n",
              "          100 :\n",
              "          Math.round((position / fileData.byteLength) * 100);\n",
              "      percent.textContent = `${percentDone}% done`;\n",
              "\n",
              "    } while (position < fileData.byteLength);\n",
              "  }\n",
              "\n",
              "  // All done.\n",
              "  yield {\n",
              "    response: {\n",
              "      action: 'complete',\n",
              "    }\n",
              "  };\n",
              "}\n",
              "\n",
              "scope.google = scope.google || {};\n",
              "scope.google.colab = scope.google.colab || {};\n",
              "scope.google.colab._files = {\n",
              "  _uploadFiles,\n",
              "  _uploadFilesContinue,\n",
              "};\n",
              "})(self);\n",
              "</script> "
            ]
          },
          "metadata": {}
        },
        {
          "output_type": "stream",
          "name": "stdout",
          "text": [
            "Saving kaggle.json to kaggle (1).json\n"
          ]
        }
      ]
    },
    {
      "cell_type": "code",
      "source": [
        "!mkdir -p ~/.kaggle\n",
        "!cp kaggle.json ~/.kaggle/\n",
        "!chmod 600 ~/.kaggle/kaggle.json"
      ],
      "metadata": {
        "id": "xQec_LM7eCFw"
      },
      "execution_count": 8,
      "outputs": []
    },
    {
      "cell_type": "code",
      "source": [
        "!kaggle datasets download -d shanegerami/ai-vs-human-text"
      ],
      "metadata": {
        "colab": {
          "base_uri": "https://localhost:8080/"
        },
        "id": "b3Lnjsb8eEUc",
        "outputId": "d61917d6-db1b-4169-8abc-de0bd1b3be7f"
      },
      "execution_count": 9,
      "outputs": [
        {
          "output_type": "stream",
          "name": "stdout",
          "text": [
            "ai-vs-human-text.zip: Skipping, found more recently modified local copy (use --force to force download)\n"
          ]
        }
      ]
    },
    {
      "cell_type": "code",
      "source": [
        "!unzip ai-vs-human-text.zip"
      ],
      "metadata": {
        "colab": {
          "base_uri": "https://localhost:8080/"
        },
        "id": "Xne2iQP1eJ9R",
        "outputId": "65c112f7-d9e0-4c45-aceb-59c85748d4d9"
      },
      "execution_count": 10,
      "outputs": [
        {
          "output_type": "stream",
          "name": "stdout",
          "text": [
            "Archive:  ai-vs-human-text.zip\n",
            "replace AI_Human.csv? [y]es, [n]o, [A]ll, [N]one, [r]ename: "
          ]
        }
      ]
    },
    {
      "cell_type": "markdown",
      "source": [
        "SET UP THE ENVIRONNEMENT"
      ],
      "metadata": {
        "id": "Gi59glpGeR3s"
      }
    },
    {
      "cell_type": "code",
      "source": [
        "import numpy as np\n",
        "import matplotlib.pyplot as plt\n",
        "import pandas as pd\n",
        "import tensorflow as tf\n",
        "from tensorflow import keras\n",
        "from tensorflow.keras.preprocessing.text import Tokenizer\n",
        "from tensorflow.keras.preprocessing.sequence import pad_sequences"
      ],
      "metadata": {
        "id": "Sh5AuLi6eUIv"
      },
      "execution_count": 11,
      "outputs": []
    },
    {
      "cell_type": "code",
      "source": [
        "dataset = pd.read_csv(\"/content/AI_Human.csv\")\n",
        "dataset.head()"
      ],
      "metadata": {
        "colab": {
          "base_uri": "https://localhost:8080/",
          "height": 206
        },
        "id": "UPeXIimteqhP",
        "outputId": "58771f11-e5b5-4d10-acb6-4f4667dcf4d7"
      },
      "execution_count": 12,
      "outputs": [
        {
          "output_type": "execute_result",
          "data": {
            "text/plain": [
              "                                                text  generated\n",
              "0  Cars. Cars have been around since they became ...        0.0\n",
              "1  Transportation is a large necessity in most co...        0.0\n",
              "2  \"America's love affair with it's vehicles seem...        0.0\n",
              "3  How often do you ride in a car? Do you drive a...        0.0\n",
              "4  Cars are a wonderful thing. They are perhaps o...        0.0"
            ],
            "text/html": [
              "\n",
              "  <div id=\"df-0954c2e6-cb05-4a0a-a9b5-e8a4c86544bb\" class=\"colab-df-container\">\n",
              "    <div>\n",
              "<style scoped>\n",
              "    .dataframe tbody tr th:only-of-type {\n",
              "        vertical-align: middle;\n",
              "    }\n",
              "\n",
              "    .dataframe tbody tr th {\n",
              "        vertical-align: top;\n",
              "    }\n",
              "\n",
              "    .dataframe thead th {\n",
              "        text-align: right;\n",
              "    }\n",
              "</style>\n",
              "<table border=\"1\" class=\"dataframe\">\n",
              "  <thead>\n",
              "    <tr style=\"text-align: right;\">\n",
              "      <th></th>\n",
              "      <th>text</th>\n",
              "      <th>generated</th>\n",
              "    </tr>\n",
              "  </thead>\n",
              "  <tbody>\n",
              "    <tr>\n",
              "      <th>0</th>\n",
              "      <td>Cars. Cars have been around since they became ...</td>\n",
              "      <td>0.0</td>\n",
              "    </tr>\n",
              "    <tr>\n",
              "      <th>1</th>\n",
              "      <td>Transportation is a large necessity in most co...</td>\n",
              "      <td>0.0</td>\n",
              "    </tr>\n",
              "    <tr>\n",
              "      <th>2</th>\n",
              "      <td>\"America's love affair with it's vehicles seem...</td>\n",
              "      <td>0.0</td>\n",
              "    </tr>\n",
              "    <tr>\n",
              "      <th>3</th>\n",
              "      <td>How often do you ride in a car? Do you drive a...</td>\n",
              "      <td>0.0</td>\n",
              "    </tr>\n",
              "    <tr>\n",
              "      <th>4</th>\n",
              "      <td>Cars are a wonderful thing. They are perhaps o...</td>\n",
              "      <td>0.0</td>\n",
              "    </tr>\n",
              "  </tbody>\n",
              "</table>\n",
              "</div>\n",
              "    <div class=\"colab-df-buttons\">\n",
              "\n",
              "  <div class=\"colab-df-container\">\n",
              "    <button class=\"colab-df-convert\" onclick=\"convertToInteractive('df-0954c2e6-cb05-4a0a-a9b5-e8a4c86544bb')\"\n",
              "            title=\"Convert this dataframe to an interactive table.\"\n",
              "            style=\"display:none;\">\n",
              "\n",
              "  <svg xmlns=\"http://www.w3.org/2000/svg\" height=\"24px\" viewBox=\"0 -960 960 960\">\n",
              "    <path d=\"M120-120v-720h720v720H120Zm60-500h600v-160H180v160Zm220 220h160v-160H400v160Zm0 220h160v-160H400v160ZM180-400h160v-160H180v160Zm440 0h160v-160H620v160ZM180-180h160v-160H180v160Zm440 0h160v-160H620v160Z\"/>\n",
              "  </svg>\n",
              "    </button>\n",
              "\n",
              "  <style>\n",
              "    .colab-df-container {\n",
              "      display:flex;\n",
              "      gap: 12px;\n",
              "    }\n",
              "\n",
              "    .colab-df-convert {\n",
              "      background-color: #E8F0FE;\n",
              "      border: none;\n",
              "      border-radius: 50%;\n",
              "      cursor: pointer;\n",
              "      display: none;\n",
              "      fill: #1967D2;\n",
              "      height: 32px;\n",
              "      padding: 0 0 0 0;\n",
              "      width: 32px;\n",
              "    }\n",
              "\n",
              "    .colab-df-convert:hover {\n",
              "      background-color: #E2EBFA;\n",
              "      box-shadow: 0px 1px 2px rgba(60, 64, 67, 0.3), 0px 1px 3px 1px rgba(60, 64, 67, 0.15);\n",
              "      fill: #174EA6;\n",
              "    }\n",
              "\n",
              "    .colab-df-buttons div {\n",
              "      margin-bottom: 4px;\n",
              "    }\n",
              "\n",
              "    [theme=dark] .colab-df-convert {\n",
              "      background-color: #3B4455;\n",
              "      fill: #D2E3FC;\n",
              "    }\n",
              "\n",
              "    [theme=dark] .colab-df-convert:hover {\n",
              "      background-color: #434B5C;\n",
              "      box-shadow: 0px 1px 3px 1px rgba(0, 0, 0, 0.15);\n",
              "      filter: drop-shadow(0px 1px 2px rgba(0, 0, 0, 0.3));\n",
              "      fill: #FFFFFF;\n",
              "    }\n",
              "  </style>\n",
              "\n",
              "    <script>\n",
              "      const buttonEl =\n",
              "        document.querySelector('#df-0954c2e6-cb05-4a0a-a9b5-e8a4c86544bb button.colab-df-convert');\n",
              "      buttonEl.style.display =\n",
              "        google.colab.kernel.accessAllowed ? 'block' : 'none';\n",
              "\n",
              "      async function convertToInteractive(key) {\n",
              "        const element = document.querySelector('#df-0954c2e6-cb05-4a0a-a9b5-e8a4c86544bb');\n",
              "        const dataTable =\n",
              "          await google.colab.kernel.invokeFunction('convertToInteractive',\n",
              "                                                    [key], {});\n",
              "        if (!dataTable) return;\n",
              "\n",
              "        const docLinkHtml = 'Like what you see? Visit the ' +\n",
              "          '<a target=\"_blank\" href=https://colab.research.google.com/notebooks/data_table.ipynb>data table notebook</a>'\n",
              "          + ' to learn more about interactive tables.';\n",
              "        element.innerHTML = '';\n",
              "        dataTable['output_type'] = 'display_data';\n",
              "        await google.colab.output.renderOutput(dataTable, element);\n",
              "        const docLink = document.createElement('div');\n",
              "        docLink.innerHTML = docLinkHtml;\n",
              "        element.appendChild(docLink);\n",
              "      }\n",
              "    </script>\n",
              "  </div>\n",
              "\n",
              "\n",
              "<div id=\"df-5d2310c0-9d8e-46d0-a9f9-bc045c1bb401\">\n",
              "  <button class=\"colab-df-quickchart\" onclick=\"quickchart('df-5d2310c0-9d8e-46d0-a9f9-bc045c1bb401')\"\n",
              "            title=\"Suggest charts\"\n",
              "            style=\"display:none;\">\n",
              "\n",
              "<svg xmlns=\"http://www.w3.org/2000/svg\" height=\"24px\"viewBox=\"0 0 24 24\"\n",
              "     width=\"24px\">\n",
              "    <g>\n",
              "        <path d=\"M19 3H5c-1.1 0-2 .9-2 2v14c0 1.1.9 2 2 2h14c1.1 0 2-.9 2-2V5c0-1.1-.9-2-2-2zM9 17H7v-7h2v7zm4 0h-2V7h2v10zm4 0h-2v-4h2v4z\"/>\n",
              "    </g>\n",
              "</svg>\n",
              "  </button>\n",
              "\n",
              "<style>\n",
              "  .colab-df-quickchart {\n",
              "      --bg-color: #E8F0FE;\n",
              "      --fill-color: #1967D2;\n",
              "      --hover-bg-color: #E2EBFA;\n",
              "      --hover-fill-color: #174EA6;\n",
              "      --disabled-fill-color: #AAA;\n",
              "      --disabled-bg-color: #DDD;\n",
              "  }\n",
              "\n",
              "  [theme=dark] .colab-df-quickchart {\n",
              "      --bg-color: #3B4455;\n",
              "      --fill-color: #D2E3FC;\n",
              "      --hover-bg-color: #434B5C;\n",
              "      --hover-fill-color: #FFFFFF;\n",
              "      --disabled-bg-color: #3B4455;\n",
              "      --disabled-fill-color: #666;\n",
              "  }\n",
              "\n",
              "  .colab-df-quickchart {\n",
              "    background-color: var(--bg-color);\n",
              "    border: none;\n",
              "    border-radius: 50%;\n",
              "    cursor: pointer;\n",
              "    display: none;\n",
              "    fill: var(--fill-color);\n",
              "    height: 32px;\n",
              "    padding: 0;\n",
              "    width: 32px;\n",
              "  }\n",
              "\n",
              "  .colab-df-quickchart:hover {\n",
              "    background-color: var(--hover-bg-color);\n",
              "    box-shadow: 0 1px 2px rgba(60, 64, 67, 0.3), 0 1px 3px 1px rgba(60, 64, 67, 0.15);\n",
              "    fill: var(--button-hover-fill-color);\n",
              "  }\n",
              "\n",
              "  .colab-df-quickchart-complete:disabled,\n",
              "  .colab-df-quickchart-complete:disabled:hover {\n",
              "    background-color: var(--disabled-bg-color);\n",
              "    fill: var(--disabled-fill-color);\n",
              "    box-shadow: none;\n",
              "  }\n",
              "\n",
              "  .colab-df-spinner {\n",
              "    border: 2px solid var(--fill-color);\n",
              "    border-color: transparent;\n",
              "    border-bottom-color: var(--fill-color);\n",
              "    animation:\n",
              "      spin 1s steps(1) infinite;\n",
              "  }\n",
              "\n",
              "  @keyframes spin {\n",
              "    0% {\n",
              "      border-color: transparent;\n",
              "      border-bottom-color: var(--fill-color);\n",
              "      border-left-color: var(--fill-color);\n",
              "    }\n",
              "    20% {\n",
              "      border-color: transparent;\n",
              "      border-left-color: var(--fill-color);\n",
              "      border-top-color: var(--fill-color);\n",
              "    }\n",
              "    30% {\n",
              "      border-color: transparent;\n",
              "      border-left-color: var(--fill-color);\n",
              "      border-top-color: var(--fill-color);\n",
              "      border-right-color: var(--fill-color);\n",
              "    }\n",
              "    40% {\n",
              "      border-color: transparent;\n",
              "      border-right-color: var(--fill-color);\n",
              "      border-top-color: var(--fill-color);\n",
              "    }\n",
              "    60% {\n",
              "      border-color: transparent;\n",
              "      border-right-color: var(--fill-color);\n",
              "    }\n",
              "    80% {\n",
              "      border-color: transparent;\n",
              "      border-right-color: var(--fill-color);\n",
              "      border-bottom-color: var(--fill-color);\n",
              "    }\n",
              "    90% {\n",
              "      border-color: transparent;\n",
              "      border-bottom-color: var(--fill-color);\n",
              "    }\n",
              "  }\n",
              "</style>\n",
              "\n",
              "  <script>\n",
              "    async function quickchart(key) {\n",
              "      const quickchartButtonEl =\n",
              "        document.querySelector('#' + key + ' button');\n",
              "      quickchartButtonEl.disabled = true;  // To prevent multiple clicks.\n",
              "      quickchartButtonEl.classList.add('colab-df-spinner');\n",
              "      try {\n",
              "        const charts = await google.colab.kernel.invokeFunction(\n",
              "            'suggestCharts', [key], {});\n",
              "      } catch (error) {\n",
              "        console.error('Error during call to suggestCharts:', error);\n",
              "      }\n",
              "      quickchartButtonEl.classList.remove('colab-df-spinner');\n",
              "      quickchartButtonEl.classList.add('colab-df-quickchart-complete');\n",
              "    }\n",
              "    (() => {\n",
              "      let quickchartButtonEl =\n",
              "        document.querySelector('#df-5d2310c0-9d8e-46d0-a9f9-bc045c1bb401 button');\n",
              "      quickchartButtonEl.style.display =\n",
              "        google.colab.kernel.accessAllowed ? 'block' : 'none';\n",
              "    })();\n",
              "  </script>\n",
              "</div>\n",
              "    </div>\n",
              "  </div>\n"
            ]
          },
          "metadata": {},
          "execution_count": 12
        }
      ]
    },
    {
      "cell_type": "code",
      "source": [
        "dataset.tail()"
      ],
      "metadata": {
        "colab": {
          "base_uri": "https://localhost:8080/",
          "height": 206
        },
        "id": "0GDUrWrfe_bS",
        "outputId": "da7bbe61-dd07-4aa6-94cd-ec0eca2a4c83"
      },
      "execution_count": 13,
      "outputs": [
        {
          "output_type": "execute_result",
          "data": {
            "text/plain": [
              "                                                     text  generated\n",
              "487230  Tie Face on Mars is really just a big misunder...        0.0\n",
              "487231  The whole purpose of democracy is to create a ...        0.0\n",
              "487232  I firmly believe that governments worldwide sh...        1.0\n",
              "487233  I DFN't agree with this decision because a LFT...        0.0\n",
              "487234  Richard Non, Jimmy Carter, and Bob Dole and ot...        0.0"
            ],
            "text/html": [
              "\n",
              "  <div id=\"df-267397a8-1e84-45ef-87b3-9eb60c9bff1f\" class=\"colab-df-container\">\n",
              "    <div>\n",
              "<style scoped>\n",
              "    .dataframe tbody tr th:only-of-type {\n",
              "        vertical-align: middle;\n",
              "    }\n",
              "\n",
              "    .dataframe tbody tr th {\n",
              "        vertical-align: top;\n",
              "    }\n",
              "\n",
              "    .dataframe thead th {\n",
              "        text-align: right;\n",
              "    }\n",
              "</style>\n",
              "<table border=\"1\" class=\"dataframe\">\n",
              "  <thead>\n",
              "    <tr style=\"text-align: right;\">\n",
              "      <th></th>\n",
              "      <th>text</th>\n",
              "      <th>generated</th>\n",
              "    </tr>\n",
              "  </thead>\n",
              "  <tbody>\n",
              "    <tr>\n",
              "      <th>487230</th>\n",
              "      <td>Tie Face on Mars is really just a big misunder...</td>\n",
              "      <td>0.0</td>\n",
              "    </tr>\n",
              "    <tr>\n",
              "      <th>487231</th>\n",
              "      <td>The whole purpose of democracy is to create a ...</td>\n",
              "      <td>0.0</td>\n",
              "    </tr>\n",
              "    <tr>\n",
              "      <th>487232</th>\n",
              "      <td>I firmly believe that governments worldwide sh...</td>\n",
              "      <td>1.0</td>\n",
              "    </tr>\n",
              "    <tr>\n",
              "      <th>487233</th>\n",
              "      <td>I DFN't agree with this decision because a LFT...</td>\n",
              "      <td>0.0</td>\n",
              "    </tr>\n",
              "    <tr>\n",
              "      <th>487234</th>\n",
              "      <td>Richard Non, Jimmy Carter, and Bob Dole and ot...</td>\n",
              "      <td>0.0</td>\n",
              "    </tr>\n",
              "  </tbody>\n",
              "</table>\n",
              "</div>\n",
              "    <div class=\"colab-df-buttons\">\n",
              "\n",
              "  <div class=\"colab-df-container\">\n",
              "    <button class=\"colab-df-convert\" onclick=\"convertToInteractive('df-267397a8-1e84-45ef-87b3-9eb60c9bff1f')\"\n",
              "            title=\"Convert this dataframe to an interactive table.\"\n",
              "            style=\"display:none;\">\n",
              "\n",
              "  <svg xmlns=\"http://www.w3.org/2000/svg\" height=\"24px\" viewBox=\"0 -960 960 960\">\n",
              "    <path d=\"M120-120v-720h720v720H120Zm60-500h600v-160H180v160Zm220 220h160v-160H400v160Zm0 220h160v-160H400v160ZM180-400h160v-160H180v160Zm440 0h160v-160H620v160ZM180-180h160v-160H180v160Zm440 0h160v-160H620v160Z\"/>\n",
              "  </svg>\n",
              "    </button>\n",
              "\n",
              "  <style>\n",
              "    .colab-df-container {\n",
              "      display:flex;\n",
              "      gap: 12px;\n",
              "    }\n",
              "\n",
              "    .colab-df-convert {\n",
              "      background-color: #E8F0FE;\n",
              "      border: none;\n",
              "      border-radius: 50%;\n",
              "      cursor: pointer;\n",
              "      display: none;\n",
              "      fill: #1967D2;\n",
              "      height: 32px;\n",
              "      padding: 0 0 0 0;\n",
              "      width: 32px;\n",
              "    }\n",
              "\n",
              "    .colab-df-convert:hover {\n",
              "      background-color: #E2EBFA;\n",
              "      box-shadow: 0px 1px 2px rgba(60, 64, 67, 0.3), 0px 1px 3px 1px rgba(60, 64, 67, 0.15);\n",
              "      fill: #174EA6;\n",
              "    }\n",
              "\n",
              "    .colab-df-buttons div {\n",
              "      margin-bottom: 4px;\n",
              "    }\n",
              "\n",
              "    [theme=dark] .colab-df-convert {\n",
              "      background-color: #3B4455;\n",
              "      fill: #D2E3FC;\n",
              "    }\n",
              "\n",
              "    [theme=dark] .colab-df-convert:hover {\n",
              "      background-color: #434B5C;\n",
              "      box-shadow: 0px 1px 3px 1px rgba(0, 0, 0, 0.15);\n",
              "      filter: drop-shadow(0px 1px 2px rgba(0, 0, 0, 0.3));\n",
              "      fill: #FFFFFF;\n",
              "    }\n",
              "  </style>\n",
              "\n",
              "    <script>\n",
              "      const buttonEl =\n",
              "        document.querySelector('#df-267397a8-1e84-45ef-87b3-9eb60c9bff1f button.colab-df-convert');\n",
              "      buttonEl.style.display =\n",
              "        google.colab.kernel.accessAllowed ? 'block' : 'none';\n",
              "\n",
              "      async function convertToInteractive(key) {\n",
              "        const element = document.querySelector('#df-267397a8-1e84-45ef-87b3-9eb60c9bff1f');\n",
              "        const dataTable =\n",
              "          await google.colab.kernel.invokeFunction('convertToInteractive',\n",
              "                                                    [key], {});\n",
              "        if (!dataTable) return;\n",
              "\n",
              "        const docLinkHtml = 'Like what you see? Visit the ' +\n",
              "          '<a target=\"_blank\" href=https://colab.research.google.com/notebooks/data_table.ipynb>data table notebook</a>'\n",
              "          + ' to learn more about interactive tables.';\n",
              "        element.innerHTML = '';\n",
              "        dataTable['output_type'] = 'display_data';\n",
              "        await google.colab.output.renderOutput(dataTable, element);\n",
              "        const docLink = document.createElement('div');\n",
              "        docLink.innerHTML = docLinkHtml;\n",
              "        element.appendChild(docLink);\n",
              "      }\n",
              "    </script>\n",
              "  </div>\n",
              "\n",
              "\n",
              "<div id=\"df-bc5f9b23-fb46-4443-99bd-e7425435eb68\">\n",
              "  <button class=\"colab-df-quickchart\" onclick=\"quickchart('df-bc5f9b23-fb46-4443-99bd-e7425435eb68')\"\n",
              "            title=\"Suggest charts\"\n",
              "            style=\"display:none;\">\n",
              "\n",
              "<svg xmlns=\"http://www.w3.org/2000/svg\" height=\"24px\"viewBox=\"0 0 24 24\"\n",
              "     width=\"24px\">\n",
              "    <g>\n",
              "        <path d=\"M19 3H5c-1.1 0-2 .9-2 2v14c0 1.1.9 2 2 2h14c1.1 0 2-.9 2-2V5c0-1.1-.9-2-2-2zM9 17H7v-7h2v7zm4 0h-2V7h2v10zm4 0h-2v-4h2v4z\"/>\n",
              "    </g>\n",
              "</svg>\n",
              "  </button>\n",
              "\n",
              "<style>\n",
              "  .colab-df-quickchart {\n",
              "      --bg-color: #E8F0FE;\n",
              "      --fill-color: #1967D2;\n",
              "      --hover-bg-color: #E2EBFA;\n",
              "      --hover-fill-color: #174EA6;\n",
              "      --disabled-fill-color: #AAA;\n",
              "      --disabled-bg-color: #DDD;\n",
              "  }\n",
              "\n",
              "  [theme=dark] .colab-df-quickchart {\n",
              "      --bg-color: #3B4455;\n",
              "      --fill-color: #D2E3FC;\n",
              "      --hover-bg-color: #434B5C;\n",
              "      --hover-fill-color: #FFFFFF;\n",
              "      --disabled-bg-color: #3B4455;\n",
              "      --disabled-fill-color: #666;\n",
              "  }\n",
              "\n",
              "  .colab-df-quickchart {\n",
              "    background-color: var(--bg-color);\n",
              "    border: none;\n",
              "    border-radius: 50%;\n",
              "    cursor: pointer;\n",
              "    display: none;\n",
              "    fill: var(--fill-color);\n",
              "    height: 32px;\n",
              "    padding: 0;\n",
              "    width: 32px;\n",
              "  }\n",
              "\n",
              "  .colab-df-quickchart:hover {\n",
              "    background-color: var(--hover-bg-color);\n",
              "    box-shadow: 0 1px 2px rgba(60, 64, 67, 0.3), 0 1px 3px 1px rgba(60, 64, 67, 0.15);\n",
              "    fill: var(--button-hover-fill-color);\n",
              "  }\n",
              "\n",
              "  .colab-df-quickchart-complete:disabled,\n",
              "  .colab-df-quickchart-complete:disabled:hover {\n",
              "    background-color: var(--disabled-bg-color);\n",
              "    fill: var(--disabled-fill-color);\n",
              "    box-shadow: none;\n",
              "  }\n",
              "\n",
              "  .colab-df-spinner {\n",
              "    border: 2px solid var(--fill-color);\n",
              "    border-color: transparent;\n",
              "    border-bottom-color: var(--fill-color);\n",
              "    animation:\n",
              "      spin 1s steps(1) infinite;\n",
              "  }\n",
              "\n",
              "  @keyframes spin {\n",
              "    0% {\n",
              "      border-color: transparent;\n",
              "      border-bottom-color: var(--fill-color);\n",
              "      border-left-color: var(--fill-color);\n",
              "    }\n",
              "    20% {\n",
              "      border-color: transparent;\n",
              "      border-left-color: var(--fill-color);\n",
              "      border-top-color: var(--fill-color);\n",
              "    }\n",
              "    30% {\n",
              "      border-color: transparent;\n",
              "      border-left-color: var(--fill-color);\n",
              "      border-top-color: var(--fill-color);\n",
              "      border-right-color: var(--fill-color);\n",
              "    }\n",
              "    40% {\n",
              "      border-color: transparent;\n",
              "      border-right-color: var(--fill-color);\n",
              "      border-top-color: var(--fill-color);\n",
              "    }\n",
              "    60% {\n",
              "      border-color: transparent;\n",
              "      border-right-color: var(--fill-color);\n",
              "    }\n",
              "    80% {\n",
              "      border-color: transparent;\n",
              "      border-right-color: var(--fill-color);\n",
              "      border-bottom-color: var(--fill-color);\n",
              "    }\n",
              "    90% {\n",
              "      border-color: transparent;\n",
              "      border-bottom-color: var(--fill-color);\n",
              "    }\n",
              "  }\n",
              "</style>\n",
              "\n",
              "  <script>\n",
              "    async function quickchart(key) {\n",
              "      const quickchartButtonEl =\n",
              "        document.querySelector('#' + key + ' button');\n",
              "      quickchartButtonEl.disabled = true;  // To prevent multiple clicks.\n",
              "      quickchartButtonEl.classList.add('colab-df-spinner');\n",
              "      try {\n",
              "        const charts = await google.colab.kernel.invokeFunction(\n",
              "            'suggestCharts', [key], {});\n",
              "      } catch (error) {\n",
              "        console.error('Error during call to suggestCharts:', error);\n",
              "      }\n",
              "      quickchartButtonEl.classList.remove('colab-df-spinner');\n",
              "      quickchartButtonEl.classList.add('colab-df-quickchart-complete');\n",
              "    }\n",
              "    (() => {\n",
              "      let quickchartButtonEl =\n",
              "        document.querySelector('#df-bc5f9b23-fb46-4443-99bd-e7425435eb68 button');\n",
              "      quickchartButtonEl.style.display =\n",
              "        google.colab.kernel.accessAllowed ? 'block' : 'none';\n",
              "    })();\n",
              "  </script>\n",
              "</div>\n",
              "    </div>\n",
              "  </div>\n"
            ]
          },
          "metadata": {},
          "execution_count": 13
        }
      ]
    },
    {
      "cell_type": "markdown",
      "source": [
        "-*Observation*:\n",
        "we could observe that the dataset is shuffle."
      ],
      "metadata": {
        "id": "IRjzjlRqfn_j"
      }
    },
    {
      "cell_type": "code",
      "source": [
        "dataset[dataset[\"generated\"] == 1].count()"
      ],
      "metadata": {
        "colab": {
          "base_uri": "https://localhost:8080/"
        },
        "id": "lr5wOFX7fDRe",
        "outputId": "1f4ee72b-7ac9-4883-c6ae-5a2c9cbe4918"
      },
      "execution_count": 14,
      "outputs": [
        {
          "output_type": "execute_result",
          "data": {
            "text/plain": [
              "text         181438\n",
              "generated    181438\n",
              "dtype: int64"
            ]
          },
          "metadata": {},
          "execution_count": 14
        }
      ]
    },
    {
      "cell_type": "code",
      "source": [
        "dataset[dataset[\"generated\"] == 0].count()"
      ],
      "metadata": {
        "colab": {
          "base_uri": "https://localhost:8080/"
        },
        "id": "YfQEaG9Jfc7e",
        "outputId": "d4d9e644-e96c-4877-843e-04271feb8424"
      },
      "execution_count": 15,
      "outputs": [
        {
          "output_type": "execute_result",
          "data": {
            "text/plain": [
              "text         305797\n",
              "generated    305797\n",
              "dtype: int64"
            ]
          },
          "metadata": {},
          "execution_count": 15
        }
      ]
    },
    {
      "cell_type": "markdown",
      "source": [
        "-*Observation*:\n",
        "\n",
        "There is double data that are generated by human than AI.\n",
        "\n",
        "I think that because of this that the system can be biased."
      ],
      "metadata": {
        "id": "CccQLW4Nf426"
      }
    },
    {
      "cell_type": "code",
      "source": [
        "dataset['length'] = dataset['text'].apply(len)"
      ],
      "metadata": {
        "id": "mlm-iKvegcRS"
      },
      "execution_count": 16,
      "outputs": []
    },
    {
      "cell_type": "code",
      "source": [
        "plt.hist(dataset['length'], bins=40, density=True, alpha=0.6, color='g',  range=(0, 7800))\n",
        "\n",
        "\n",
        "plt.title('Distribution de la longueur des phrases')\n",
        "plt.xlabel('Longueur des phrases')\n",
        "plt.ylabel('Fréquence relative')\n",
        "plt.show()"
      ],
      "metadata": {
        "colab": {
          "base_uri": "https://localhost:8080/",
          "height": 472
        },
        "id": "1IjCGuNUhL7y",
        "outputId": "1b8d9c59-d6ae-473b-a779-a24f8ab9ed08"
      },
      "execution_count": 17,
      "outputs": [
        {
          "output_type": "display_data",
          "data": {
            "text/plain": [
              "<Figure size 640x480 with 1 Axes>"
            ],
            "image/png": "[encoded data removed]"
          },
          "metadata": {}
        }
      ]
    },
    {
      "cell_type": "code",
      "source": [
        "length_counts = dataset[\"length\"].value_counts()\n",
        "print(length_counts)\n"
      ],
      "metadata": {
        "colab": {
          "base_uri": "https://localhost:8080/"
        },
        "id": "PhUpg-aZjCB_",
        "outputId": "70b53161-5ded-499e-b9e3-6e9b464c3302"
      },
      "execution_count": 18,
      "outputs": [
        {
          "output_type": "stream",
          "name": "stdout",
          "text": [
            "1974    320\n",
            "1942    303\n",
            "2082    303\n",
            "1855    302\n",
            "2048    296\n",
            "       ... \n",
            "555       1\n",
            "8436      1\n",
            "5236      1\n",
            "6117      1\n",
            "6320      1\n",
            "Name: length, Length: 6419, dtype: int64\n"
          ]
        }
      ]
    },
    {
      "cell_type": "markdown",
      "source": [
        "-Observation:\n",
        "\n",
        "I think that i will limited the AI model to 1974 words. Rectification i don't have enough ressources for runninig up to 1974 words."
      ],
      "metadata": {
        "id": "VZsuMESPjlt2"
      }
    },
    {
      "cell_type": "code",
      "source": [
        "dataset.count()"
      ],
      "metadata": {
        "colab": {
          "base_uri": "https://localhost:8080/"
        },
        "id": "CU5pyLHdjlFq",
        "outputId": "25816e96-ec10-4226-91c4-9a4bfd5c2b11"
      },
      "execution_count": 44,
      "outputs": [
        {
          "output_type": "execute_result",
          "data": {
            "text/plain": [
              "text         487235\n",
              "generated    487235\n",
              "length       487235\n",
              "dtype: int64"
            ]
          },
          "metadata": {},
          "execution_count": 44
        }
      ]
    },
    {
      "cell_type": "code",
      "source": [
        "dataset_human = dataset[dataset['generated']==0]\n",
        "dataset_ai = dataset[dataset['generated']==1]"
      ],
      "metadata": {
        "id": "AYv38oauj9qh"
      },
      "execution_count": 45,
      "outputs": []
    },
    {
      "cell_type": "code",
      "source": [
        "limit_text = 60000\n",
        "percentage_text = int(60000*70/100)"
      ],
      "metadata": {
        "id": "1B8tbQmq1zGi"
      },
      "execution_count": 46,
      "outputs": []
    },
    {
      "cell_type": "code",
      "source": [
        "from sklearn.utils import shuffle\n",
        "\n",
        "\n",
        "x_human = shuffle(dataset_human[\"text\"][0:limit_text], random_state= 42)\n",
        "x_ai = shuffle(dataset_ai[\"text\"][0:limit_text], random_state= 42)\n",
        "y_human = shuffle(dataset_human[\"generated\"][0:limit_text], random_state = 42)\n",
        "y_ai = shuffle(dataset_ai[\"generated\"][0:limit_text], random_state = 42)"
      ],
      "metadata": {
        "id": "zAKpaa6mkLLp"
      },
      "execution_count": 47,
      "outputs": []
    },
    {
      "cell_type": "code",
      "source": [
        "y_ai.head()"
      ],
      "metadata": {
        "colab": {
          "base_uri": "https://localhost:8080/"
        },
        "id": "7y6SBMTglMqV",
        "outputId": "ab64f7ad-583a-46aa-dbcd-f0d74c773f96"
      },
      "execution_count": 48,
      "outputs": [
        {
          "output_type": "execute_result",
          "data": {
            "text/plain": [
              "28723    1.0\n",
              "76203    1.0\n",
              "79914    1.0\n",
              "24620    1.0\n",
              "24374    1.0\n",
              "Name: generated, dtype: float64"
            ]
          },
          "metadata": {},
          "execution_count": 48
        }
      ]
    },
    {
      "cell_type": "code",
      "source": [
        "y_human.head()"
      ],
      "metadata": {
        "colab": {
          "base_uri": "https://localhost:8080/"
        },
        "id": "LLF7xvgPlXa_",
        "outputId": "2e5eca41-700b-4f13-d701-c46337d78ad1"
      },
      "execution_count": 49,
      "outputs": [
        {
          "output_type": "execute_result",
          "data": {
            "text/plain": [
              "13664    0.0\n",
              "70679    0.0\n",
              "81138    0.0\n",
              "9561     0.0\n",
              "9315     0.0\n",
              "Name: generated, dtype: float64"
            ]
          },
          "metadata": {},
          "execution_count": 49
        }
      ]
    },
    {
      "cell_type": "code",
      "source": [
        "x_human.count()"
      ],
      "metadata": {
        "colab": {
          "base_uri": "https://localhost:8080/"
        },
        "id": "ZsoJgS2hqfpp",
        "outputId": "e8e51d90-3707-4158-982a-1a08382c03b1"
      },
      "execution_count": 50,
      "outputs": [
        {
          "output_type": "execute_result",
          "data": {
            "text/plain": [
              "60000"
            ]
          },
          "metadata": {},
          "execution_count": 50
        }
      ]
    },
    {
      "cell_type": "code",
      "source": [
        "x_ai.count()"
      ],
      "metadata": {
        "colab": {
          "base_uri": "https://localhost:8080/"
        },
        "id": "BlHwqK0Lql6Z",
        "outputId": "7f16b0c9-7619-41e6-d47e-51d2846295d0"
      },
      "execution_count": 51,
      "outputs": [
        {
          "output_type": "execute_result",
          "data": {
            "text/plain": [
              "60000"
            ]
          },
          "metadata": {},
          "execution_count": 51
        }
      ]
    },
    {
      "cell_type": "code",
      "source": [
        "\n",
        "\n",
        "x_train = pd.concat([x_human[0:percentage_text],x_ai[0:percentage_text]], ignore_index = True)\n",
        "x_test = pd.concat([x_human[percentage_text:],x_ai[percentage_text:]], ignore_index = True)\n",
        "y_train = pd.concat([y_human[0:percentage_text],y_ai[0:percentage_text]], ignore_index = True)\n",
        "y_test = pd.concat([y_human[percentage_text:],y_ai[percentage_text:]], ignore_index = True)\n",
        "\n",
        "random_seed = 42\n",
        "\n",
        "\n",
        "combined_data_train = pd.concat([x_train, y_train], axis=1)\n",
        "combined_data_test = pd.concat([x_test,y_test], axis = 1)\n",
        "\n",
        "# Shuffle the combined DataFrame\n",
        "shuffled_data_train = shuffle(combined_data_train, random_state=random_seed)\n",
        "shuffled_data_test = shuffle(combined_data_test, random_state=random_seed)\n",
        "\n",
        "# Splitting into training and testing sets\n",
        "x_train = shuffled_data_train[\"text\"]\n",
        "y_train = shuffled_data_train[\"generated\"]\n",
        "x_test = shuffled_data_test[\"text\"]\n",
        "y_test = shuffled_data_test[\"generated\"]"
      ],
      "metadata": {
        "id": "RHIAUlKnmsXQ"
      },
      "execution_count": 52,
      "outputs": []
    },
    {
      "cell_type": "code",
      "source": [
        "y_train.value_counts()"
      ],
      "metadata": {
        "colab": {
          "base_uri": "https://localhost:8080/"
        },
        "id": "QHl10t_kkxZu",
        "outputId": "2b83ab40-5531-4466-87f8-6d95f0819fa7"
      },
      "execution_count": 53,
      "outputs": [
        {
          "output_type": "execute_result",
          "data": {
            "text/plain": [
              "0.0    42000\n",
              "1.0    42000\n",
              "Name: generated, dtype: int64"
            ]
          },
          "metadata": {},
          "execution_count": 53
        }
      ]
    },
    {
      "cell_type": "code",
      "source": [
        "y_test.value_counts()"
      ],
      "metadata": {
        "colab": {
          "base_uri": "https://localhost:8080/"
        },
        "id": "82ltb2XOn9FY",
        "outputId": "50b8fc39-fe9e-4807-fd06-26d1f112aa06"
      },
      "execution_count": 54,
      "outputs": [
        {
          "output_type": "execute_result",
          "data": {
            "text/plain": [
              "0.0    18000\n",
              "1.0    18000\n",
              "Name: generated, dtype: int64"
            ]
          },
          "metadata": {},
          "execution_count": 54
        }
      ]
    },
    {
      "cell_type": "markdown",
      "source": [
        "\n",
        "vocab_size = 10000\n",
        "embedding_dim = 16\n",
        "max_length = 100\n",
        "trunc_type='post'\n",
        "padding_type='post'\n",
        "oov_tok = \"\"\n",
        "training_size = 20000"
      ],
      "metadata": {
        "id": "MJ9zFdmhn0nO"
      }
    },
    {
      "cell_type": "code",
      "source": [
        "#parameters\n",
        "max_len_words = 1000\n",
        "nums_words = 10000"
      ],
      "metadata": {
        "id": "kIweiG52TUea"
      },
      "execution_count": 55,
      "outputs": []
    },
    {
      "cell_type": "code",
      "source": [
        "tokenizer = Tokenizer(num_words=nums_words, oov_token = \"<OOV>\")\n",
        "tokenizer.fit_on_texts(x_train)\n",
        "word_index = tokenizer.word_index"
      ],
      "metadata": {
        "id": "9pYhx0B8lGBu"
      },
      "execution_count": 56,
      "outputs": []
    },
    {
      "cell_type": "code",
      "source": [
        "training_sequences = tokenizer.texts_to_sequences(x_train)\n",
        "training_padded = pad_sequences(training_sequences, maxlen = max_len_words,\n",
        "                                padding = \"post\", truncating = \"post\")\n",
        "test_sequences = tokenizer.texts_to_sequences(x_test)\n",
        "test_padded = pad_sequences(test_sequences, maxlen = max_len_words,\n",
        "                                padding = \"post\", truncating = \"post\")"
      ],
      "metadata": {
        "id": "kkyrGiGtmqrX"
      },
      "execution_count": 57,
      "outputs": []
    },
    {
      "cell_type": "code",
      "source": [
        "print(test_padded)"
      ],
      "metadata": {
        "colab": {
          "base_uri": "https://localhost:8080/"
        },
        "id": "tCkGmleVcADi",
        "outputId": "b958d5bc-01f4-4743-c162-af23e993c9e2"
      },
      "execution_count": 58,
      "outputs": [
        {
          "output_type": "stream",
          "name": "stdout",
          "text": [
            "[[ 60  27  83 ...   0   0   0]\n",
            " [115  41  15 ...   0   0   0]\n",
            " [ 20 118   8 ...   0   0   0]\n",
            " ...\n",
            " [ 45   9   2 ...   0   0   0]\n",
            " [ 88   6 100 ...   0   0   0]\n",
            " [ 20 602  83 ...   0   0   0]]\n"
          ]
        }
      ]
    },
    {
      "cell_type": "code",
      "source": [
        "from keras.callbacks import EarlyStopping\n",
        "from keras.optimizers import Adam\n",
        "\n",
        "#reset\n",
        "\n",
        "optimizer = Adam(learning_rate=0.0005)\n",
        "model = 0\n",
        "# Définir les paramètres pour overfitting\n",
        "early_stopping = EarlyStopping(monitor='val_loss', patience=10, restore_best_weights=True)\n",
        "num_epochs = 30\n",
        "\n",
        "model = tf.keras.Sequential([\n",
        "    tf.keras.layers.Embedding(nums_words, 32, input_length = max_len_words),\n",
        "    tf.keras.layers.GlobalAveragePooling1D(),\n",
        "    tf.keras.layers.Dense(32, activation=\"relu\", kernel_regularizer=tf.keras.regularizers.l1(0.01)),\n",
        "    tf.keras.layers.Dropout(0.5),\n",
        "    tf.keras.layers.Dense(16, activation=\"relu\", ),\n",
        "\n",
        "    tf.keras.layers.Dense(1,activation = \"sigmoid\")\n",
        "])\n",
        "\n",
        "\n",
        "model.compile(loss=\"binary_crossentropy\", optimizer=optimizer, metrics = [\"accuracy\"])\n",
        "\n",
        "training_padded = np.array(training_padded)\n",
        "training_labels = np.array(y_train)\n",
        "testing_padded = np.array(test_padded)\n",
        "testing_labels = np.array(y_test)\n",
        "\n",
        "history = model.fit(training_padded, training_labels, epochs=num_epochs,\n",
        "                    batch_size = 16,\n",
        "                    validation_data=(testing_padded, testing_labels),\n",
        "                    callbacks=[early_stopping], verbose=2)"
      ],
      "metadata": {
        "colab": {
          "base_uri": "https://localhost:8080/"
        },
        "id": "B06ncXiQpBz1",
        "outputId": "a21aa283-5174-40fc-ca71-afbe897e140f"
      },
      "execution_count": 60,
      "outputs": [
        {
          "output_type": "stream",
          "name": "stdout",
          "text": [
            "Epoch 1/30\n",
            "5250/5250 - 52s - loss: 0.3684 - accuracy: 0.9159 - val_loss: 0.1201 - val_accuracy: 0.9854 - 52s/epoch - 10ms/step\n",
            "Epoch 2/30\n",
            "5250/5250 - 52s - loss: 0.1236 - accuracy: 0.9807 - val_loss: 0.0797 - val_accuracy: 0.9895 - 52s/epoch - 10ms/step\n",
            "Epoch 3/30\n",
            "5250/5250 - 49s - loss: 0.0908 - accuracy: 0.9857 - val_loss: 0.0653 - val_accuracy: 0.9903 - 49s/epoch - 9ms/step\n",
            "Epoch 4/30\n",
            "5250/5250 - 49s - loss: 0.0764 - accuracy: 0.9876 - val_loss: 0.0580 - val_accuracy: 0.9919 - 49s/epoch - 9ms/step\n",
            "Epoch 5/30\n",
            "5250/5250 - 48s - loss: 0.0666 - accuracy: 0.9898 - val_loss: 0.0467 - val_accuracy: 0.9939 - 48s/epoch - 9ms/step\n",
            "Epoch 6/30\n",
            "5250/5250 - 48s - loss: 0.0610 - accuracy: 0.9902 - val_loss: 0.0438 - val_accuracy: 0.9948 - 48s/epoch - 9ms/step\n",
            "Epoch 7/30\n",
            "5250/5250 - 49s - loss: 0.0558 - accuracy: 0.9913 - val_loss: 0.0485 - val_accuracy: 0.9930 - 49s/epoch - 9ms/step\n",
            "Epoch 8/30\n",
            "5250/5250 - 52s - loss: 0.0520 - accuracy: 0.9917 - val_loss: 0.0406 - val_accuracy: 0.9948 - 52s/epoch - 10ms/step\n",
            "Epoch 9/30\n",
            "5250/5250 - 48s - loss: 0.0499 - accuracy: 0.9922 - val_loss: 0.0387 - val_accuracy: 0.9955 - 48s/epoch - 9ms/step\n",
            "Epoch 10/30\n",
            "5250/5250 - 51s - loss: 0.0467 - accuracy: 0.9925 - val_loss: 0.0360 - val_accuracy: 0.9951 - 51s/epoch - 10ms/step\n",
            "Epoch 11/30\n",
            "5250/5250 - 49s - loss: 0.0456 - accuracy: 0.9926 - val_loss: 0.0343 - val_accuracy: 0.9957 - 49s/epoch - 9ms/step\n",
            "Epoch 12/30\n",
            "5250/5250 - 48s - loss: 0.0433 - accuracy: 0.9929 - val_loss: 0.0350 - val_accuracy: 0.9954 - 48s/epoch - 9ms/step\n",
            "Epoch 13/30\n",
            "5250/5250 - 46s - loss: 0.0430 - accuracy: 0.9930 - val_loss: 0.0385 - val_accuracy: 0.9955 - 46s/epoch - 9ms/step\n",
            "Epoch 14/30\n",
            "5250/5250 - 50s - loss: 0.0415 - accuracy: 0.9933 - val_loss: 0.0331 - val_accuracy: 0.9959 - 50s/epoch - 9ms/step\n",
            "Epoch 15/30\n",
            "5250/5250 - 49s - loss: 0.0411 - accuracy: 0.9930 - val_loss: 0.0385 - val_accuracy: 0.9943 - 49s/epoch - 9ms/step\n",
            "Epoch 16/30\n",
            "5250/5250 - 51s - loss: 0.0402 - accuracy: 0.9936 - val_loss: 0.0312 - val_accuracy: 0.9960 - 51s/epoch - 10ms/step\n",
            "Epoch 17/30\n",
            "5250/5250 - 47s - loss: 0.0391 - accuracy: 0.9936 - val_loss: 0.0392 - val_accuracy: 0.9963 - 47s/epoch - 9ms/step\n",
            "Epoch 18/30\n",
            "5250/5250 - 46s - loss: 0.0392 - accuracy: 0.9942 - val_loss: 0.0350 - val_accuracy: 0.9961 - 46s/epoch - 9ms/step\n",
            "Epoch 19/30\n",
            "5250/5250 - 45s - loss: 0.0390 - accuracy: 0.9940 - val_loss: 0.0307 - val_accuracy: 0.9963 - 45s/epoch - 9ms/step\n",
            "Epoch 20/30\n",
            "5250/5250 - 47s - loss: 0.0377 - accuracy: 0.9940 - val_loss: 0.0309 - val_accuracy: 0.9962 - 47s/epoch - 9ms/step\n",
            "Epoch 21/30\n",
            "5250/5250 - 47s - loss: 0.0370 - accuracy: 0.9943 - val_loss: 0.0324 - val_accuracy: 0.9965 - 47s/epoch - 9ms/step\n",
            "Epoch 22/30\n",
            "5250/5250 - 49s - loss: 0.0373 - accuracy: 0.9940 - val_loss: 0.0319 - val_accuracy: 0.9965 - 49s/epoch - 9ms/step\n",
            "Epoch 23/30\n",
            "5250/5250 - 49s - loss: 0.0376 - accuracy: 0.9941 - val_loss: 0.0292 - val_accuracy: 0.9964 - 49s/epoch - 9ms/step\n",
            "Epoch 24/30\n",
            "5250/5250 - 46s - loss: 0.0364 - accuracy: 0.9940 - val_loss: 0.0307 - val_accuracy: 0.9965 - 46s/epoch - 9ms/step\n",
            "Epoch 25/30\n",
            "5250/5250 - 52s - loss: 0.0367 - accuracy: 0.9942 - val_loss: 0.0283 - val_accuracy: 0.9963 - 52s/epoch - 10ms/step\n",
            "Epoch 26/30\n",
            "5250/5250 - 52s - loss: 0.0363 - accuracy: 0.9942 - val_loss: 0.0296 - val_accuracy: 0.9964 - 52s/epoch - 10ms/step\n",
            "Epoch 27/30\n",
            "5250/5250 - 51s - loss: 0.0359 - accuracy: 0.9945 - val_loss: 0.0305 - val_accuracy: 0.9967 - 51s/epoch - 10ms/step\n",
            "Epoch 28/30\n",
            "5250/5250 - 50s - loss: 0.0364 - accuracy: 0.9940 - val_loss: 0.0358 - val_accuracy: 0.9951 - 50s/epoch - 10ms/step\n",
            "Epoch 29/30\n",
            "5250/5250 - 52s - loss: 0.0351 - accuracy: 0.9947 - val_loss: 0.0290 - val_accuracy: 0.9967 - 52s/epoch - 10ms/step\n",
            "Epoch 30/30\n",
            "5250/5250 - 57s - loss: 0.0358 - accuracy: 0.9941 - val_loss: 0.0304 - val_accuracy: 0.9962 - 57s/epoch - 11ms/step\n"
          ]
        }
      ]
    },
    {
      "cell_type": "code",
      "source": [
        "plt.plot(history.history[\"loss\"])\n",
        "plt.plot(history.history[\"val_loss\"])\n",
        "plt.legend([\"train\", \"test\"], loc=\"upper left\")\n",
        "plt.title(\"model loss\")\n",
        "plt.show()\n",
        "plt.plot(history.history[\"accuracy\"])\n",
        "plt.plot(history.history[\"val_accuracy\"])\n",
        "plt.legend([\"train\", \"test\"], loc=\"upper right\")\n",
        "plt.title(\"model accuracy\")\n",
        "plt.show()\n"
      ],
      "metadata": {
        "id": "M5S9WjQuUYkp",
        "colab": {
          "base_uri": "https://localhost:8080/",
          "height": 887
        },
        "outputId": "f1cc47d6-6200-409a-f17c-35d0a1820078"
      },
      "execution_count": 61,
      "outputs": [
        {
          "output_type": "display_data",
          "data": {
            "text/plain": [
              "<Figure size 640x480 with 1 Axes>"
            ],
            "image/png": "[encoded data removed]"
          },
          "metadata": {}
        },
        {
          "output_type": "display_data",
          "data": {
            "text/plain": [
              "<Figure size 640x480 with 1 Axes>"
            ],
            "image/png": "[encoded data removed]"
          },
          "metadata": {}
        }
      ]
    },
    {
      "cell_type": "code",
      "source": [
        "x_human_test = dataset_human[\"text\"][140000:160000]\n",
        "x_ai_test = dataset_ai[\"text\"][140000:140000]\n",
        "y_human_test = dataset_human[\"generated\"][140000:160000]\n",
        "y_ai_test = dataset_ai[\"generated\"][140000:160000]"
      ],
      "metadata": {
        "id": "urWoaS_2qC08"
      },
      "execution_count": 66,
      "outputs": []
    },
    {
      "cell_type": "code",
      "source": [
        "x_human_test.head()"
      ],
      "metadata": {
        "colab": {
          "base_uri": "https://localhost:8080/"
        },
        "id": "SlTZ9or1qM7C",
        "outputId": "8b7f161f-f40e-4a8a-f6af-929f9635d8e2"
      },
      "execution_count": 67,
      "outputs": [
        {
          "output_type": "execute_result",
          "data": {
            "text/plain": [
              "229673    The principle has decided that it would be a g...\n",
              "229675    When are parents gave us advice we are able to...\n",
              "229676    To think that scientists have been able to pro...\n",
              "229678    Everyday proper Dir in car accidents because t...\n",
              "229679    The natural face\\n\\nI thing the face is a natu...\n",
              "Name: text, dtype: object"
            ]
          },
          "metadata": {},
          "execution_count": 67
        }
      ]
    },
    {
      "cell_type": "code",
      "source": [
        "y_human_test.head()"
      ],
      "metadata": {
        "colab": {
          "base_uri": "https://localhost:8080/"
        },
        "id": "fL8f_pXvqPOd",
        "outputId": "35fd87bb-70d0-47a4-cfa1-06591a82b629"
      },
      "execution_count": 68,
      "outputs": [
        {
          "output_type": "execute_result",
          "data": {
            "text/plain": [
              "229673    0.0\n",
              "229675    0.0\n",
              "229676    0.0\n",
              "229678    0.0\n",
              "229679    0.0\n",
              "Name: generated, dtype: float64"
            ]
          },
          "metadata": {},
          "execution_count": 68
        }
      ]
    },
    {
      "cell_type": "code",
      "source": [
        "# Concatenate and shuffle the test set\n",
        "x_test = pd.concat([x_human_test, x_ai_test], ignore_index=True)\n",
        "y_test = pd.concat([y_human_test, y_ai_test], ignore_index=True)\n",
        "\n",
        "combined_data_test = pd.concat([x_test, y_test], axis=1)\n",
        "\n",
        "# Shuffle the combined DataFrame\n",
        "shuffled_data_test = shuffle(combined_data_test, random_state=random_seed)\n",
        "\n",
        "# Reset index to ensure that column titles are preserved\n",
        "shuffled_data_test.reset_index(drop=True, inplace=True)\n",
        "\n",
        "x_shuffled_test = shuffled_data_test.iloc[:, 0]\n",
        "y_shuffled_test = shuffled_data_test.iloc[:, 1]\n",
        "\n",
        "# Tokenize and pad the test data\n",
        "sequences_test = tokenizer.texts_to_sequences(x_shuffled_test.astype(\"str\"))\n",
        "padded_test = pad_sequences(sequences_test, maxlen=max_len_words, padding=\"post\", truncating=\"post\")\n",
        "\n",
        "# Evaluate the model on the test set\n",
        "loss, accuracy = model.evaluate(padded_test, y_shuffled_test)\n",
        "\n",
        "# Print the results\n",
        "print(\"Loss:\", loss)\n",
        "print(\"Accuracy:\", accuracy)\n"
      ],
      "metadata": {
        "id": "VQyTl5Rywanm",
        "colab": {
          "base_uri": "https://localhost:8080/"
        },
        "outputId": "a371e6b1-f97a-4ca0-dc43-1e9c91f9bc59"
      },
      "execution_count": 69,
      "outputs": [
        {
          "output_type": "stream",
          "name": "stdout",
          "text": [
            "1250/1250 [==============================] - 8s 6ms/step - loss: 0.0242 - accuracy: 0.9979\n",
            "Loss: 0.024192137643694878\n",
            "Accuracy: 0.9978749752044678\n"
          ]
        }
      ]
    }
  ]
}